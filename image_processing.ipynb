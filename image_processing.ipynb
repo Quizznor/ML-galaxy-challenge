{
 "cells": [
  {
   "cell_type": "code",
   "execution_count": 23,
   "metadata": {},
   "outputs": [],
   "source": [
    "from PIL import Image\n",
    "import numpy as np\n",
    "import h5py\n",
    "import os\n",
    "\n",
    "output_size = (64, 64)"
   ]
  },
  {
   "cell_type": "code",
   "execution_count": 24,
   "metadata": {},
   "outputs": [
    {
     "ename": "FileNotFoundError",
     "evalue": "[Errno 2] Unable to open file (unable to open file: name = 'mytestfile.h5', errno = 2, error message = 'No such file or directory', flags = 1, o_flags = 2)",
     "output_type": "error",
     "traceback": [
      "\u001b[0;31m---------------------------------------------------------------------------\u001b[0m",
      "\u001b[0;31mFileNotFoundError\u001b[0m                         Traceback (most recent call last)",
      "\u001b[1;32m/home/quizznor/ML-galaxy-challenge/image_processing.ipynb Cell 2\u001b[0m in \u001b[0;36m<cell line: 1>\u001b[0;34m()\u001b[0m\n\u001b[1;32m      <a href='vscode-notebook-cell:/home/quizznor/ML-galaxy-challenge/image_processing.ipynb#W1sZmlsZQ%3D%3D?line=2'>3</a>\u001b[0m \u001b[39mwith\u001b[39;00m Image\u001b[39m.\u001b[39mopen(\u001b[39m\"\u001b[39m\u001b[39m./images/uncropped/\u001b[39m\u001b[39m\"\u001b[39m \u001b[39m+\u001b[39m image_name) \u001b[39mas\u001b[39;00m image:\n\u001b[1;32m      <a href='vscode-notebook-cell:/home/quizznor/ML-galaxy-challenge/image_processing.ipynb#W1sZmlsZQ%3D%3D?line=3'>4</a>\u001b[0m     image\u001b[39m.\u001b[39mresize(output_size)\u001b[39m.\u001b[39msave(\u001b[39m\"\u001b[39m\u001b[39m./images/cropped/\u001b[39m\u001b[39m\"\u001b[39m \u001b[39m+\u001b[39m image_name)\n\u001b[0;32m----> <a href='vscode-notebook-cell:/home/quizznor/ML-galaxy-challenge/image_processing.ipynb#W1sZmlsZQ%3D%3D?line=5'>6</a>\u001b[0m convert_file(\u001b[39m\"\u001b[39;49m\u001b[39m/home/quizznor/ML-galaxy-challenge/images/uncropped\u001b[39;49m\u001b[39m\"\u001b[39;49m, image_name, \u001b[39m\"\u001b[39;49m\u001b[39m/home/quizznor/ML-galaxy-challenge/images/cropped\u001b[39;49m\u001b[39m\"\u001b[39;49m)\n",
      "\u001b[1;32m/home/quizznor/ML-galaxy-challenge/image_processing.ipynb Cell 2\u001b[0m in \u001b[0;36mconvert_file\u001b[0;34m(input_dir, filename, output_dir)\u001b[0m\n\u001b[1;32m     <a href='vscode-notebook-cell:/home/quizznor/ML-galaxy-challenge/image_processing.ipynb#W1sZmlsZQ%3D%3D?line=12'>13</a>\u001b[0m new_filepath \u001b[39m=\u001b[39m output_dir \u001b[39m+\u001b[39m \u001b[39m'\u001b[39m\u001b[39m/\u001b[39m\u001b[39m'\u001b[39m \u001b[39m+\u001b[39m filename[:\u001b[39m-\u001b[39m\u001b[39m4\u001b[39m] \u001b[39m+\u001b[39m \u001b[39m'\u001b[39m\u001b[39m.hdf5\u001b[39m\u001b[39m'\u001b[39m\n\u001b[1;32m     <a href='vscode-notebook-cell:/home/quizznor/ML-galaxy-challenge/image_processing.ipynb#W1sZmlsZQ%3D%3D?line=13'>14</a>\u001b[0m \u001b[39m# f = h5py.File(new_filepath)\u001b[39;00m\n\u001b[0;32m---> <a href='vscode-notebook-cell:/home/quizznor/ML-galaxy-challenge/image_processing.ipynb#W1sZmlsZQ%3D%3D?line=14'>15</a>\u001b[0m f \u001b[39m=\u001b[39m h5py\u001b[39m.\u001b[39;49mFile(\u001b[39m'\u001b[39;49m\u001b[39mmytestfile.h5\u001b[39;49m\u001b[39m'\u001b[39;49m, \u001b[39m\"\u001b[39;49m\u001b[39mr+\u001b[39;49m\u001b[39m\"\u001b[39;49m)\n\u001b[1;32m     <a href='vscode-notebook-cell:/home/quizznor/ML-galaxy-challenge/image_processing.ipynb#W1sZmlsZQ%3D%3D?line=16'>17</a>\u001b[0m dt \u001b[39m=\u001b[39m h5py\u001b[39m.\u001b[39mspecial_dtype(vlen\u001b[39m=\u001b[39mnp\u001b[39m.\u001b[39mdtype(\u001b[39m'\u001b[39m\u001b[39muint8\u001b[39m\u001b[39m'\u001b[39m))\n\u001b[1;32m     <a href='vscode-notebook-cell:/home/quizznor/ML-galaxy-challenge/image_processing.ipynb#W1sZmlsZQ%3D%3D?line=17'>18</a>\u001b[0m dset \u001b[39m=\u001b[39m f\u001b[39m.\u001b[39mcreate_dataset(\u001b[39m'\u001b[39m\u001b[39mbinary_data\u001b[39m\u001b[39m'\u001b[39m, (\u001b[39m100\u001b[39m, ), dtype\u001b[39m=\u001b[39mdt)\n",
      "File \u001b[0;32m~/.local/lib/python3.10/site-packages/h5py/_hl/files.py:533\u001b[0m, in \u001b[0;36mFile.__init__\u001b[0;34m(self, name, mode, driver, libver, userblock_size, swmr, rdcc_nslots, rdcc_nbytes, rdcc_w0, track_order, fs_strategy, fs_persist, fs_threshold, fs_page_size, page_buf_size, min_meta_keep, min_raw_keep, locking, alignment_threshold, alignment_interval, **kwds)\u001b[0m\n\u001b[1;32m    525\u001b[0m     fapl \u001b[39m=\u001b[39m make_fapl(driver, libver, rdcc_nslots, rdcc_nbytes, rdcc_w0,\n\u001b[1;32m    526\u001b[0m                      locking, page_buf_size, min_meta_keep, min_raw_keep,\n\u001b[1;32m    527\u001b[0m                      alignment_threshold\u001b[39m=\u001b[39malignment_threshold,\n\u001b[1;32m    528\u001b[0m                      alignment_interval\u001b[39m=\u001b[39malignment_interval,\n\u001b[1;32m    529\u001b[0m                      \u001b[39m*\u001b[39m\u001b[39m*\u001b[39mkwds)\n\u001b[1;32m    530\u001b[0m     fcpl \u001b[39m=\u001b[39m make_fcpl(track_order\u001b[39m=\u001b[39mtrack_order, fs_strategy\u001b[39m=\u001b[39mfs_strategy,\n\u001b[1;32m    531\u001b[0m                      fs_persist\u001b[39m=\u001b[39mfs_persist, fs_threshold\u001b[39m=\u001b[39mfs_threshold,\n\u001b[1;32m    532\u001b[0m                      fs_page_size\u001b[39m=\u001b[39mfs_page_size)\n\u001b[0;32m--> 533\u001b[0m     fid \u001b[39m=\u001b[39m make_fid(name, mode, userblock_size, fapl, fcpl, swmr\u001b[39m=\u001b[39;49mswmr)\n\u001b[1;32m    535\u001b[0m \u001b[39mif\u001b[39;00m \u001b[39misinstance\u001b[39m(libver, \u001b[39mtuple\u001b[39m):\n\u001b[1;32m    536\u001b[0m     \u001b[39mself\u001b[39m\u001b[39m.\u001b[39m_libver \u001b[39m=\u001b[39m libver\n",
      "File \u001b[0;32m~/.local/lib/python3.10/site-packages/h5py/_hl/files.py:228\u001b[0m, in \u001b[0;36mmake_fid\u001b[0;34m(name, mode, userblock_size, fapl, fcpl, swmr)\u001b[0m\n\u001b[1;32m    226\u001b[0m     fid \u001b[39m=\u001b[39m h5f\u001b[39m.\u001b[39mopen(name, flags, fapl\u001b[39m=\u001b[39mfapl)\n\u001b[1;32m    227\u001b[0m \u001b[39melif\u001b[39;00m mode \u001b[39m==\u001b[39m \u001b[39m'\u001b[39m\u001b[39mr+\u001b[39m\u001b[39m'\u001b[39m:\n\u001b[0;32m--> 228\u001b[0m     fid \u001b[39m=\u001b[39m h5f\u001b[39m.\u001b[39;49mopen(name, h5f\u001b[39m.\u001b[39;49mACC_RDWR, fapl\u001b[39m=\u001b[39;49mfapl)\n\u001b[1;32m    229\u001b[0m \u001b[39melif\u001b[39;00m mode \u001b[39min\u001b[39;00m [\u001b[39m'\u001b[39m\u001b[39mw-\u001b[39m\u001b[39m'\u001b[39m, \u001b[39m'\u001b[39m\u001b[39mx\u001b[39m\u001b[39m'\u001b[39m]:\n\u001b[1;32m    230\u001b[0m     fid \u001b[39m=\u001b[39m h5f\u001b[39m.\u001b[39mcreate(name, h5f\u001b[39m.\u001b[39mACC_EXCL, fapl\u001b[39m=\u001b[39mfapl, fcpl\u001b[39m=\u001b[39mfcpl)\n",
      "File \u001b[0;32mh5py/_objects.pyx:54\u001b[0m, in \u001b[0;36mh5py._objects.with_phil.wrapper\u001b[0;34m()\u001b[0m\n",
      "File \u001b[0;32mh5py/_objects.pyx:55\u001b[0m, in \u001b[0;36mh5py._objects.with_phil.wrapper\u001b[0;34m()\u001b[0m\n",
      "File \u001b[0;32mh5py/h5f.pyx:106\u001b[0m, in \u001b[0;36mh5py.h5f.open\u001b[0;34m()\u001b[0m\n",
      "\u001b[0;31mFileNotFoundError\u001b[0m: [Errno 2] Unable to open file (unable to open file: name = 'mytestfile.h5', errno = 2, error message = 'No such file or directory', flags = 1, o_flags = 2)"
     ]
    }
   ],
   "source": [
    "for image_name in os.listdir(\"./images/uncropped/\"):\n",
    "\n",
    "    with Image.open(\"./images/uncropped/\" + image_name) as image:\n",
    "        image.resize(output_size).save(\"./images/cropped/\" + image_name)\n",
    "        np.savetxt(\"./images/cropped/\" + image_name[:-4] + \".h5\" , np.asarray(image))"
   ]
  },
  {
   "cell_type": "code",
   "execution_count": null,
   "metadata": {},
   "outputs": [],
   "source": []
  }
 ],
 "metadata": {
  "kernelspec": {
   "display_name": "Python 2.7.17 64-bit",
   "language": "python",
   "name": "python3"
  },
  "language_info": {
   "codemirror_mode": {
    "name": "ipython",
    "version": 3
   },
   "file_extension": ".py",
   "mimetype": "text/x-python",
   "name": "python",
   "nbconvert_exporter": "python",
   "pygments_lexer": "ipython3",
   "version": "3.10.8"
  },
  "orig_nbformat": 4,
  "vscode": {
   "interpreter": {
    "hash": "767d51c1340bd893661ea55ea3124f6de3c7a262a8b4abca0554b478b1e2ff90"
   }
  }
 },
 "nbformat": 4,
 "nbformat_minor": 2
}
